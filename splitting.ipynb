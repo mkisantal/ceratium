{
 "cells": [
  {
   "cell_type": "code",
   "execution_count": null,
   "metadata": {},
   "outputs": [],
   "source": [
    "import os\n",
    "import json\n",
    "from matplotlib import pyplot as plt\n",
    "import numpy as np\n",
    "from tqdm.notebook import tqdm\n",
    "from multiprocessing import Pool\n",
    "import shutil\n",
    "import copy"
   ]
  },
  {
   "cell_type": "code",
   "execution_count": null,
   "metadata": {},
   "outputs": [],
   "source": [
    "SPLIT = [80, 20]\n",
    "\n",
    "\n",
    "\n",
    "with open('/home/ubuntu/data/ceratium-2000-small-labels.json', 'r') as label_file:\n",
    "    labels = json.load(label_file)\n",
    "    \n",
    "img_dir = '/home/ubuntu/data/ceratium-2000-small/'\n",
    "\n",
    "out_img_dir_train = '/home/ubuntu/data/ceratium-2000-small-train/'\n",
    "out_img_dir_test = '/home/ubuntu/data/ceratium-2000-small-test/'\n",
    "\n",
    "\n"
   ]
  },
  {
   "cell_type": "code",
   "execution_count": null,
   "metadata": {},
   "outputs": [],
   "source": [
    "for out_img_dir in [out_img_dir_train, out_img_dir_test]:\n",
    "    if os.path.exists(out_img_dir):\n",
    "        shutil.rmtree(out_img_dir)\n",
    "    os.makedirs(out_img_dir)"
   ]
  },
  {
   "cell_type": "code",
   "execution_count": null,
   "metadata": {},
   "outputs": [],
   "source": [
    "annotations_for_imageid = dict()\n",
    "annotations_by_id = dict()\n",
    "\n",
    "for ann_ in labels['annotations']:\n",
    "    annotations_by_id[ann_['id']] = ann_\n",
    "    try:\n",
    "        annotations_for_imageid[ann_['image_id']] += [ann_['id']]\n",
    "#         print(ann_['image_id'], ': ', annotations_for_imageid[ann_['image_id']])\n",
    "    except KeyError:\n",
    "        annotations_for_imageid[ann_['image_id']] = [ann_['id']]"
   ]
  },
  {
   "cell_type": "code",
   "execution_count": null,
   "metadata": {},
   "outputs": [],
   "source": [
    "train_size = len(labels['images']) * SPLIT[0] // 100\n",
    "test_size = len(labels['images']) * SPLIT[1] // 100\n",
    "assert(train_size + test_size == len(labels['images']))\n",
    "print('Splitting to {} train and {} test images.'.format(train_size, test_size))\n",
    "\n"
   ]
  },
  {
   "cell_type": "code",
   "execution_count": null,
   "metadata": {},
   "outputs": [],
   "source": [
    "a = [1, 2, 3, 4, 5, 6, 7, 8, 9, 10]"
   ]
  },
  {
   "cell_type": "code",
   "execution_count": null,
   "metadata": {},
   "outputs": [],
   "source": [
    "\n",
    "\n",
    "\n",
    "train_images = []\n",
    "train_annotations = []\n",
    "train_labels = copy.deepcopy(labels)\n",
    "\n",
    "train_ann_id = 0\n",
    "\n",
    "for new_index, image_index in enumerate(range(0, train_size)):\n",
    "    img = labels['images'][image_index]\n",
    "    ann_ids = annotations_for_imageid[img['id']]\n",
    "    anns = [annotations_by_id[ann_id] for ann_id in ann_ids]\n",
    "\n",
    "    img['id'] = new_index\n",
    "    for ann in anns:\n",
    "        ann['image_id'] = new_index\n",
    "        ann['id'] = train_ann_id\n",
    "        train_ann_id += 1\n",
    "        \n",
    "    train_images.append(img)\n",
    "    train_annotations += anns\n",
    "    \n",
    "    src = os.path.join(img_dir, img['file_name'])\n",
    "    dst = os.path.join(out_img_dir_train, img['file_name'])\n",
    "    shutil.copyfile(src, dst)\n",
    "    \n",
    "\n",
    "train_labels['images'] = train_images\n",
    "train_labels['annotations'] = train_annotations\n",
    "\n",
    "train_label_out = '/home/ubuntu/data/ceratium-2000-small-train-labels.json'\n",
    "with open(train_label_out, 'w') as f:\n",
    "    json.dump(train_labels, f)     \n",
    "\n",
    "\n",
    "print('Training set with {} images, {} annotations.'.format(len(train_labels['images']), len(train_labels['annotations'])))\n",
    "    "
   ]
  },
  {
   "cell_type": "code",
   "execution_count": null,
   "metadata": {},
   "outputs": [],
   "source": [
    "test_images = []\n",
    "test_annotations = []\n",
    "test_labels = copy.deepcopy(labels)\n",
    "\n",
    "test_ann_id = 0\n",
    "\n",
    "for new_index, image_index in enumerate(range(train_size, train_size+test_size)):\n",
    "# for new_index, image_index in enumerate(range(334, 336)):\n",
    "    img = labels['images'][image_index]\n",
    "    ann_ids = annotations_for_imageid[img['id']]\n",
    "    anns = [annotations_by_id[ann_id] for ann_id in ann_ids]\n",
    "\n",
    "    img['id'] = new_index\n",
    "    for ann in anns:\n",
    "        ann['image_id'] = new_index\n",
    "        ann['id'] = test_ann_id\n",
    "        test_ann_id += 1\n",
    "    test_images.append(img)\n",
    "    test_annotations += anns\n",
    "    \n",
    "    src = os.path.join(img_dir, img['file_name'])\n",
    "    dst = os.path.join(out_img_dir_test , img['file_name'])\n",
    "    shutil.copyfile(src, dst)\n",
    "\n",
    "test_labels['images'] = test_images\n",
    "test_labels['annotations'] = test_annotations\n",
    "\n",
    "test_label_out = '/home/ubuntu/data/ceratium-2000-small-test-labels.json'\n",
    "with open(test_label_out, 'w') as f:\n",
    "    json.dump(test_labels, f)   \n",
    "\n",
    "print('Test set with {} images, {} annotations.'.format(len(test_labels['images']), len(test_labels['annotations'])))\n"
   ]
  },
  {
   "cell_type": "code",
   "execution_count": null,
   "metadata": {},
   "outputs": [],
   "source": []
  },
  {
   "cell_type": "code",
   "execution_count": null,
   "metadata": {},
   "outputs": [],
   "source": []
  },
  {
   "cell_type": "code",
   "execution_count": null,
   "metadata": {},
   "outputs": [],
   "source": []
  }
 ],
 "metadata": {
  "kernelspec": {
   "display_name": "Environment (conda_alga)",
   "language": "python",
   "name": "conda_alga"
  },
  "language_info": {
   "codemirror_mode": {
    "name": "ipython",
    "version": 3
   },
   "file_extension": ".py",
   "mimetype": "text/x-python",
   "name": "python",
   "nbconvert_exporter": "python",
   "pygments_lexer": "ipython3",
   "version": "3.7.7"
  }
 },
 "nbformat": 4,
 "nbformat_minor": 2
}
