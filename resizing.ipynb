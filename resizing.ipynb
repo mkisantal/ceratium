{
 "cells": [
  {
   "cell_type": "code",
   "execution_count": null,
   "metadata": {},
   "outputs": [],
   "source": [
    "%matplotlib notebook\n",
    "from PIL import Image\n",
    "import os\n",
    "import json\n",
    "from matplotlib import pyplot as plt\n",
    "import numpy as np\n",
    "from tqdm.notebook import tqdm\n",
    "from multiprocessing import Pool\n",
    "import shutil\n",
    "import copy\n"
   ]
  },
  {
   "cell_type": "code",
   "execution_count": null,
   "metadata": {},
   "outputs": [],
   "source": [
    "NEW_WIDTH = 640\n",
    "\n",
    "\n",
    "with open('/home/ubuntu/data/ceratium-2000-labels.json', 'r') as label_file:\n",
    "    labels = json.load(label_file)\n",
    "    \n",
    "img_dir = '/home/ubuntu/data/ceratium-2000/'\n",
    "\n",
    "out_img_dir = '/home/ubuntu/data/ceratium-2000-small/'"
   ]
  },
  {
   "cell_type": "code",
   "execution_count": null,
   "metadata": {},
   "outputs": [],
   "source": [
    "if os.path.exists(out_img_dir):\n",
    "    shutil.rmtree(out_img_dir)\n",
    "os.makedirs(out_img_dir)"
   ]
  },
  {
   "cell_type": "code",
   "execution_count": null,
   "metadata": {
    "scrolled": true
   },
   "outputs": [],
   "source": [
    "annotations_for_imageid = dict()\n",
    "annotations_by_id = dict()\n",
    "\n",
    "for ann_ in labels['annotations']:\n",
    "    annotations_by_id[ann_['id']] = ann_\n",
    "    try:\n",
    "        annotations_for_imageid[ann_['image_id']] += [ann_['id']]\n",
    "        print(ann_['image_id'], ': ', annotations_for_imageid[ann_['image_id']])\n",
    "    except KeyError:\n",
    "        annotations_for_imageid[ann_['image_id']] = [ann_['id']]\n"
   ]
  },
  {
   "cell_type": "code",
   "execution_count": null,
   "metadata": {},
   "outputs": [],
   "source": [
    "def resize(img_, plot=False):\n",
    "    \n",
    "    # load image\n",
    "    img_path = os.path.join(img_dir, img_['file_name'])\n",
    "    pil_image = Image.open(img_path)\n",
    "    #pil_image = test_image\n",
    "    \n",
    "    # resize\n",
    "    resize_factor = (NEW_WIDTH / pil_image.size[0])\n",
    "    new_size = np.int32(np.array(pil_image.size) * resize_factor)\n",
    "    pil_image = pil_image.resize(new_size,Image.ANTIALIAS)\n",
    "    \n",
    "    # update image properties\n",
    "    img_['width'] = int(new_size[0])\n",
    "    img_['height'] = int(new_size[1])\n",
    "    \n",
    "    # update all annotations\n",
    "    \n",
    "    new_anns = []\n",
    "    \n",
    "    for ann_id in annotations_for_imageid[img_['id']]:\n",
    "        \n",
    "        ann_ = annotations_by_id[ann_id]\n",
    "        \n",
    "        new_bbox = [int(x) for x in list(np.int64(np.array(ann_['bbox']) * resize_factor))]\n",
    "        new_area = new_bbox[2] * new_bbox[3]\n",
    "        ann_['bbox'] = new_bbox\n",
    "        ann_['area'] = int(new_area)\n",
    "        \n",
    "        new_anns.append(ann_)\n",
    "\n",
    "    if plot:\n",
    "        fig = plt.figure()\n",
    "        ax = fig.add_subplot(111)\n",
    "        ax.imshow(pil_image)\n",
    "        for ann_id in annotations_for_imageid[img_['id']]:\n",
    "            ann_ = annotations_by_id[ann_id]\n",
    "            ax.plot([ann_['bbox'][0], ann_['bbox'][0] + ann_['bbox'][2], ann_['bbox'][0] + ann_['bbox'][2], ann_['bbox'][0], ann_['bbox'][0]],\n",
    "                    [ann_['bbox'][1], ann_['bbox'][1], ann_['bbox'][1] + ann_['bbox'][3], ann_['bbox'][1] + ann_['bbox'][3], ann_['bbox'][1]],\n",
    "                    'r-')\n",
    "    \n",
    "    out_img_path = os.path.join(out_img_dir, img_['file_name'])\n",
    "    pil_image.save(out_img_path)\n",
    "    \n",
    "    return (img_, new_anns)\n"
   ]
  },
  {
   "cell_type": "code",
   "execution_count": null,
   "metadata": {},
   "outputs": [],
   "source": [
    "\n",
    "pool = Pool(4)\n",
    "\n",
    "new_images, new_annotations = [], []\n",
    "\n",
    "\n",
    "for results in tqdm(pool.imap(resize, labels['images']),\n",
    "                         total=len(labels['images'])):\n",
    "    img_, anns_ = results\n",
    "    new_images.append(img_)\n",
    "    new_annotations += anns_\n",
    "        \n",
    "\n",
    "print(len(new_images))\n",
    "print(len(new_annotations))\n",
    "\n",
    "labels['images'] = new_images\n",
    "labels['annotations'] = new_annotations\n",
    "        \n",
    "label_out = '/home/ubuntu/data/ceratium-2000-small-labels.json'\n",
    "with open(label_out, 'w') as f:\n",
    "    json.dump(labels, f)        "
   ]
  },
  {
   "cell_type": "code",
   "execution_count": null,
   "metadata": {},
   "outputs": [],
   "source": [
    "labels['images'][0]"
   ]
  },
  {
   "cell_type": "code",
   "execution_count": null,
   "metadata": {},
   "outputs": [],
   "source": [
    "labels['annotations'][0]"
   ]
  },
  {
   "cell_type": "code",
   "execution_count": null,
   "metadata": {},
   "outputs": [],
   "source": [
    "type(labels['annotations'][0]['bbox'][0])"
   ]
  },
  {
   "cell_type": "code",
   "execution_count": null,
   "metadata": {},
   "outputs": [],
   "source": []
  }
 ],
 "metadata": {
  "kernelspec": {
   "display_name": "Environment (conda_alga)",
   "language": "python",
   "name": "conda_alga"
  },
  "language_info": {
   "codemirror_mode": {
    "name": "ipython",
    "version": 3
   },
   "file_extension": ".py",
   "mimetype": "text/x-python",
   "name": "python",
   "nbconvert_exporter": "python",
   "pygments_lexer": "ipython3",
   "version": "3.7.7"
  }
 },
 "nbformat": 4,
 "nbformat_minor": 2
}
