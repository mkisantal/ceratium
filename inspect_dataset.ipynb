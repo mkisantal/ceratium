{
 "cells": [
  {
   "cell_type": "code",
   "execution_count": null,
   "metadata": {},
   "outputs": [],
   "source": [
    "%matplotlib notebook\n",
    "from PIL import Image\n",
    "from matplotlib import pyplot as plt\n",
    "import os\n",
    "import json"
   ]
  },
  {
   "cell_type": "code",
   "execution_count": null,
   "metadata": {},
   "outputs": [],
   "source": [
    "img_dir = '/home/ubuntu/data/ceratium-2000-small-train/'\n",
    "label_path = '/home/ubuntu/data/ceratium-2000-small-train-labels.json'\n",
    "\n",
    "with open(label_path, 'r') as label_file:\n",
    "    labels = json.load(label_file)\n",
    "\n",
    "\n",
    "annotations_for_imageid = dict()\n",
    "annotations_by_id = dict()\n",
    "\n",
    "for ann_ in labels['annotations']:\n",
    "    annotations_by_id[ann_['id']] = ann_\n",
    "    try:\n",
    "        annotations_for_imageid[ann_['image_id']] += [ann_['id']]\n",
    "    except KeyError:\n",
    "        annotations_for_imageid[ann_['image_id']] = [ann_['id']]"
   ]
  },
  {
   "cell_type": "code",
   "execution_count": null,
   "metadata": {},
   "outputs": [],
   "source": [
    "i = 155\n",
    "\n",
    "img_ = labels['images'][i]\n",
    "\n",
    "pil_image = Image.open(os.path.join(img_dir, img_['file_name']))\n",
    "\n",
    "plt.imshow(pil_image)\n",
    "for ann_id in annotations_for_imageid[img_['id']]:\n",
    "    ann_ = annotations_by_id[ann_id]\n",
    "    plt.plot([ann_['bbox'][0], ann_['bbox'][0] + ann_['bbox'][2], ann_['bbox'][0] + ann_['bbox'][2], ann_['bbox'][0], ann_['bbox'][0]],\n",
    "            [ann_['bbox'][1], ann_['bbox'][1], ann_['bbox'][1] + ann_['bbox'][3], ann_['bbox'][1] + ann_['bbox'][3], ann_['bbox'][1]],'r-')"
   ]
  },
  {
   "cell_type": "code",
   "execution_count": null,
   "metadata": {},
   "outputs": [],
   "source": [
    "img_"
   ]
  },
  {
   "cell_type": "code",
   "execution_count": null,
   "metadata": {},
   "outputs": [],
   "source": []
  }
 ],
 "metadata": {
  "kernelspec": {
   "display_name": "Environment (conda_alga)",
   "language": "python",
   "name": "conda_alga"
  },
  "language_info": {
   "codemirror_mode": {
    "name": "ipython",
    "version": 3
   },
   "file_extension": ".py",
   "mimetype": "text/x-python",
   "name": "python",
   "nbconvert_exporter": "python",
   "pygments_lexer": "ipython3",
   "version": "3.7.7"
  }
 },
 "nbformat": 4,
 "nbformat_minor": 2
}
